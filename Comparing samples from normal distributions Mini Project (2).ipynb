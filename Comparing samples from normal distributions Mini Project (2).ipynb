{
 "cells": [
  {
   "cell_type": "markdown",
   "id": "a693bfce",
   "metadata": {},
   "source": [
    "# Comparing samples from normal distributions\n",
    "authors: Maja H Kirkeby, Bernardo Santos, and João P. Fernandes\n",
    "\n",
    "In this notebook we aim to show \n",
    "- whether or not there is a significant difference between two or more samples using the ANOVA individual test, and \n",
    "- in case there is a significant difference, we want to show whether the difference is positive or negative and whether it is considered large or not using Cohen's D and Hedge's G tests. \n",
    "\n",
    "*This requires (1) removing outliers, and (2) testing all the assumptions of the ANOVA tests.*"
   ]
  },
  {
   "cell_type": "code",
   "execution_count": 1,
   "id": "5a52cfb0",
   "metadata": {},
   "outputs": [],
   "source": [
    "import pandas as pd\n",
    "import numpy as np\n",
    "import scipy.stats as stats\n",
    "import seaborn as sns\n",
    "import matplotlib.pyplot as plt\n",
    "import math \n",
    "import random"
   ]
  },
  {
   "cell_type": "code",
   "execution_count": 2,
   "id": "f5efe1e1",
   "metadata": {},
   "outputs": [],
   "source": [
    "# import your file into a Pandas dataframe \n",
    "file_name = 'Python_mini.csv'\n",
    "df = pd.read_csv(file_name, header = 0, delimiter=\";\", decimal=\".\", names=['test','PKG','CPU','nn','nn2','time'])\n",
    "df = df[['test', 'PKG', 'CPU', 'time']]"
   ]
  },
  {
   "cell_type": "code",
   "execution_count": 3,
   "id": "5f80e343",
   "metadata": {},
   "outputs": [
    {
     "data": {
      "text/html": [
       "<div>\n",
       "<style scoped>\n",
       "    .dataframe tbody tr th:only-of-type {\n",
       "        vertical-align: middle;\n",
       "    }\n",
       "\n",
       "    .dataframe tbody tr th {\n",
       "        vertical-align: top;\n",
       "    }\n",
       "\n",
       "    .dataframe thead th {\n",
       "        text-align: right;\n",
       "    }\n",
       "</style>\n",
       "<table border=\"1\" class=\"dataframe\">\n",
       "  <thead>\n",
       "    <tr style=\"text-align: right;\">\n",
       "      <th></th>\n",
       "      <th>test</th>\n",
       "      <th>PKG</th>\n",
       "      <th>CPU</th>\n",
       "      <th>time</th>\n",
       "    </tr>\n",
       "  </thead>\n",
       "  <tbody>\n",
       "    <tr>\n",
       "      <th>0</th>\n",
       "      <td>logistic_model</td>\n",
       "      <td>6.407593</td>\n",
       "      <td>5.497314</td>\n",
       "      <td>908.249</td>\n",
       "    </tr>\n",
       "    <tr>\n",
       "      <th>1</th>\n",
       "      <td>logistic_model</td>\n",
       "      <td>6.505371</td>\n",
       "      <td>5.585876</td>\n",
       "      <td>919.677</td>\n",
       "    </tr>\n",
       "    <tr>\n",
       "      <th>2</th>\n",
       "      <td>logistic_model</td>\n",
       "      <td>6.434570</td>\n",
       "      <td>5.519470</td>\n",
       "      <td>908.406</td>\n",
       "    </tr>\n",
       "    <tr>\n",
       "      <th>3</th>\n",
       "      <td>logistic_model</td>\n",
       "      <td>6.440552</td>\n",
       "      <td>5.538452</td>\n",
       "      <td>893.739</td>\n",
       "    </tr>\n",
       "    <tr>\n",
       "      <th>4</th>\n",
       "      <td>logistic_model</td>\n",
       "      <td>6.440552</td>\n",
       "      <td>5.538452</td>\n",
       "      <td>893.739</td>\n",
       "    </tr>\n",
       "    <tr>\n",
       "      <th>...</th>\n",
       "      <td>...</td>\n",
       "      <td>...</td>\n",
       "      <td>...</td>\n",
       "      <td>...</td>\n",
       "    </tr>\n",
       "    <tr>\n",
       "      <th>795</th>\n",
       "      <td>svm_model</td>\n",
       "      <td>142.368896</td>\n",
       "      <td>126.283203</td>\n",
       "      <td>17332.900</td>\n",
       "    </tr>\n",
       "    <tr>\n",
       "      <th>796</th>\n",
       "      <td>svm_model</td>\n",
       "      <td>141.753052</td>\n",
       "      <td>125.737122</td>\n",
       "      <td>17253.700</td>\n",
       "    </tr>\n",
       "    <tr>\n",
       "      <th>797</th>\n",
       "      <td>svm_model</td>\n",
       "      <td>143.169434</td>\n",
       "      <td>127.151367</td>\n",
       "      <td>17257.200</td>\n",
       "    </tr>\n",
       "    <tr>\n",
       "      <th>798</th>\n",
       "      <td>svm_model</td>\n",
       "      <td>143.359497</td>\n",
       "      <td>127.288757</td>\n",
       "      <td>17273.700</td>\n",
       "    </tr>\n",
       "    <tr>\n",
       "      <th>799</th>\n",
       "      <td>svm_model</td>\n",
       "      <td>143.326477</td>\n",
       "      <td>127.296204</td>\n",
       "      <td>17260.500</td>\n",
       "    </tr>\n",
       "  </tbody>\n",
       "</table>\n",
       "<p>800 rows × 4 columns</p>\n",
       "</div>"
      ],
      "text/plain": [
       "               test         PKG         CPU       time\n",
       "0    logistic_model    6.407593    5.497314    908.249\n",
       "1    logistic_model    6.505371    5.585876    919.677\n",
       "2    logistic_model    6.434570    5.519470    908.406\n",
       "3    logistic_model    6.440552    5.538452    893.739\n",
       "4    logistic_model    6.440552    5.538452    893.739\n",
       "..              ...         ...         ...        ...\n",
       "795       svm_model  142.368896  126.283203  17332.900\n",
       "796       svm_model  141.753052  125.737122  17253.700\n",
       "797       svm_model  143.169434  127.151367  17257.200\n",
       "798       svm_model  143.359497  127.288757  17273.700\n",
       "799       svm_model  143.326477  127.296204  17260.500\n",
       "\n",
       "[800 rows x 4 columns]"
      ]
     },
     "execution_count": 3,
     "metadata": {},
     "output_type": "execute_result"
    }
   ],
   "source": [
    "df"
   ]
  },
  {
   "cell_type": "code",
   "execution_count": 4,
   "id": "5e182e6b",
   "metadata": {},
   "outputs": [
    {
     "data": {
      "text/plain": [
       "<Axes: xlabel='CPU', ylabel='time'>"
      ]
     },
     "execution_count": 4,
     "metadata": {},
     "output_type": "execute_result"
    },
    {
     "data": {
      "image/png": "[encoded data removed]",
      "text/plain": [
       "<Figure size 640x480 with 1 Axes>"
      ]
     },
     "metadata": {},
     "output_type": "display_data"
    }
   ],
   "source": [
    "sns.scatterplot(data=df,hue='test',x='CPU', y='time')"
   ]
  },
  {
   "cell_type": "code",
   "execution_count": 5,
   "id": "490fba50",
   "metadata": {},
   "outputs": [
    {
     "data": {
      "text/plain": [
       "<Axes: xlabel='CPU', ylabel='Count'>"
      ]
     },
     "execution_count": 5,
     "metadata": {},
     "output_type": "execute_result"
    },
    {
     "data": {
      "image/png": "[encoded data removed]",
      "text/plain": [
       "<Figure size 640x480 with 1 Axes>"
      ]
     },
     "metadata": {},
     "output_type": "display_data"
    }
   ],
   "source": [
    "sns.histplot(data=df,hue='test',x='CPU')\n"
   ]
  },
  {
   "cell_type": "code",
   "execution_count": 6,
   "id": "b341cadd",
   "metadata": {},
   "outputs": [
    {
     "data": {
      "text/plain": [
       "<Axes: xlabel='CPU', ylabel='Density'>"
      ]
     },
     "execution_count": 6,
     "metadata": {},
     "output_type": "execute_result"
    },
    {
     "data": {
      "image/png": "[encoded data removed]",
      "text/plain": [
       "<Figure size 640x480 with 1 Axes>"
      ]
     },
     "metadata": {},
     "output_type": "display_data"
    }
   ],
   "source": [
    "sns.kdeplot(data=df,hue='test',x='CPU')"
   ]
  },
  {
   "cell_type": "markdown",
   "id": "2c193048",
   "metadata": {},
   "source": [
    "# Normal distribution test\n",
    "https://machinelearningmastery.com/statistical-hypothesis-tests-in-python-cheat-sheet/"
   ]
  },
  {
   "cell_type": "code",
   "execution_count": 7,
   "id": "a17983c7",
   "metadata": {},
   "outputs": [],
   "source": [
    "# create a subset of your data\n",
    "# define the data source and how to separate the data\n",
    "data = df\n",
    "data_column = 'CPU'         # The column name with the data that we want to compare\n",
    "types_column_name = 'test'  # The column name with the data in it\n",
    "typeA = 'svm_model'  # The category of data A\n",
    "typeB = 'logistic_model'       # The category of data B\n",
    "\n",
    "#repetitions_of_random_sampling = 10000\n",
    "\n",
    "# create a new dataframe with the interesting subset \n",
    "df_SVM_model = data[(data[types_column_name]==typeA)][data_column]\n",
    "df_Logistic_model = data[(data[types_column_name]==typeB)][data_column]\n",
    "\n",
    "# create a new dataframe with the interesting subset \n",
    "SVM_model = list(df_SVM_model)\n",
    "Logistic_model = list(df_Logistic_model)\n"
   ]
  },
  {
   "cell_type": "markdown",
   "id": "14cd9591",
   "metadata": {},
   "source": [
    "# Removing outliers"
   ]
  },
  {
   "cell_type": "code",
   "execution_count": 8,
   "id": "ddaf70cc",
   "metadata": {},
   "outputs": [
    {
     "name": "stdout",
     "output_type": "stream",
     "text": [
      "number of outliers: 3 of 400 observations.\n",
      "number of outliers: 10 of 400 observations.\n"
     ]
    }
   ],
   "source": [
    "# Remove outliers from the initial data (per sample) \n",
    "# use quantile outliers when we do not have normal distributed data\n",
    "def remove_outliers_quantile(data_series):\n",
    "    data = data_series\n",
    "    q75, q25 = data.quantile(q=0.75),data.quantile(q=0.25) # np.percentile(data.loc[:,data_column],[75,25])\n",
    "    intr_qr = q75 - q25\n",
    "\n",
    "    max = q75 + (1.5 * intr_qr)\n",
    "    min = q25 - (1.5 * intr_qr)\n",
    "\n",
    "    count_total = len(data)\n",
    "\n",
    "    data = data[(data > min) & (data < max)]\n",
    "    count_wo_outliers = len(data)\n",
    "\n",
    "    outliers_count = count_total - count_wo_outliers\n",
    "    print(f'number of outliers: {outliers_count} of {count_total} observations.')\n",
    "    \n",
    "    # remove outliers\n",
    "    return data\n",
    "\n",
    "df_SVM_model = remove_outliers_quantile(df_SVM_model)\n",
    "df_Logistic_model = remove_outliers_quantile(df_Logistic_model)"
   ]
  },
  {
   "cell_type": "code",
   "execution_count": 9,
   "id": "7f23f697",
   "metadata": {},
   "outputs": [],
   "source": [
    "# plot \n",
    "df['CPU'] = pd.to_numeric(df['CPU'], errors='coerce')"
   ]
  },
  {
   "cell_type": "code",
   "execution_count": 10,
   "id": "309a829e",
   "metadata": {},
   "outputs": [
    {
     "data": {
      "image/png": "[encoded data removed]",
      "text/plain": [
       "<Figure size 640x480 with 1 Axes>"
      ]
     },
     "metadata": {},
     "output_type": "display_data"
    },
    {
     "data": {
      "image/png": "[encoded data removed]",
      "text/plain": [
       "<Figure size 640x480 with 1 Axes>"
      ]
     },
     "metadata": {},
     "output_type": "display_data"
    }
   ],
   "source": [
    "# plot \n",
    "sns.histplot(data=data[(data[types_column_name]==typeA)][data_column]).set(title='Original Data')\n",
    "plt.show()\n",
    "sns.histplot(data=df_SVM_model).set(title='Data without Outliers')\n",
    "plt.show()"
   ]
  },
  {
   "cell_type": "code",
   "execution_count": 11,
   "id": "dc101d40",
   "metadata": {},
   "outputs": [
    {
     "data": {
      "image/png": "[encoded data removed]",
      "text/plain": [
       "<Figure size 640x480 with 1 Axes>"
      ]
     },
     "metadata": {},
     "output_type": "display_data"
    },
    {
     "data": {
      "image/png": "[encoded data removed]",
      "text/plain": [
       "<Figure size 640x480 with 1 Axes>"
      ]
     },
     "metadata": {},
     "output_type": "display_data"
    }
   ],
   "source": [
    "# plot \n",
    "sns.histplot(data=data[(data[types_column_name]==typeB)][data_column]).set(title='Original Data')\n",
    "plt.show()\n",
    "sns.histplot(data=df_Logistic_model).set(title='Data without Outliers')\n",
    "plt.show()"
   ]
  },
  {
   "cell_type": "code",
   "execution_count": null,
   "id": "b5bdf6c2",
   "metadata": {},
   "outputs": [],
   "source": []
  },
  {
   "cell_type": "code",
   "execution_count": null,
   "id": "bad1ed7f",
   "metadata": {},
   "outputs": [],
   "source": []
  },
  {
   "cell_type": "markdown",
   "id": "d55021f1",
   "metadata": {},
   "source": [
    "## Shapiro-Wilk Test\n",
    "Tests whether a data sample has a Gaussian distribution.\n",
    "\n",
    "**Assumptions:**\n",
    "Observations in each sample are independent and identically distributed (iid).\n",
    "\n",
    "**Interpretation:**\n",
    "- H0: the sample has a Gaussian distribution.\n",
    "- H1: the sample does not have a Gaussian distribution."
   ]
  },
  {
   "cell_type": "code",
   "execution_count": 12,
   "id": "4204d4a5",
   "metadata": {},
   "outputs": [
    {
     "name": "stdout",
     "output_type": "stream",
     "text": [
      "stat=0.928, p=0.000\n",
      "Probably not Gaussian\n"
     ]
    }
   ],
   "source": [
    "# Example of the Shapiro-Wilk Normality Test\n",
    "from scipy.stats import shapiro\n",
    "data = SVM_model\n",
    "#data = Logistic_model\n",
    "stat, p = shapiro(data)\n",
    "print('stat=%.3f, p=%.3f' % (stat, p))\n",
    "if p > 0.05:\n",
    "\tprint('Probably Gaussian')\n",
    "else:\n",
    "\tprint('Probably not Gaussian')"
   ]
  },
  {
   "cell_type": "code",
   "execution_count": 13,
   "id": "1dcac115",
   "metadata": {},
   "outputs": [
    {
     "name": "stdout",
     "output_type": "stream",
     "text": [
      "stat=0.940, p=0.000\n",
      "Probably not Gaussian\n"
     ]
    }
   ],
   "source": [
    "# Example of the Shapiro-Wilk Normality Test\n",
    "from scipy.stats import shapiro\n",
    "#data = SVM_model\n",
    "data = Logistic_model\n",
    "stat, p = shapiro(data)\n",
    "print('stat=%.3f, p=%.3f' % (stat, p))\n",
    "if p > 0.05:\n",
    "\tprint('Probably Gaussian')\n",
    "else:\n",
    "\tprint('Probably not Gaussian')"
   ]
  },
  {
   "cell_type": "markdown",
   "id": "b4dced84",
   "metadata": {},
   "source": [
    "## D’Agostino’s K^2 Test\n",
    "Tests whether a data sample has a Gaussian distribution.\n",
    "\n",
    "**Assumptions**:\n",
    "Observations in each sample are independent and identically distributed (iid).\n",
    "\n",
    "**Interpretation:**\n",
    "- H0: the sample has a Gaussian distribution.\n",
    "- H1: the sample does not have a Gaussian distribution"
   ]
  },
  {
   "cell_type": "code",
   "execution_count": 14,
   "id": "bf2cb50b",
   "metadata": {},
   "outputs": [
    {
     "name": "stdout",
     "output_type": "stream",
     "text": [
      "stat=32.062, p=0.000\n",
      "Probably not Gaussian\n"
     ]
    }
   ],
   "source": [
    "# Example of the D'Agostino's K^2 Normality Test\n",
    "from scipy.stats import normaltest\n",
    "data = SVM_model\n",
    "stat, p = normaltest(data)\n",
    "print('stat=%.3f, p=%.3f' % (stat, p))\n",
    "if p > 0.05:\n",
    "\tprint('Probably Gaussian')\n",
    "else:\n",
    "\tprint('Probably not Gaussian')"
   ]
  },
  {
   "cell_type": "code",
   "execution_count": 15,
   "id": "3b346115",
   "metadata": {},
   "outputs": [
    {
     "name": "stdout",
     "output_type": "stream",
     "text": [
      "stat=69.071, p=0.000\n",
      "Probably not Gaussian\n"
     ]
    }
   ],
   "source": [
    "# Example of the D'Agostino's K^2 Normality Test\n",
    "from scipy.stats import normaltest\n",
    "data = Logistic_model\n",
    "stat, p = normaltest(data)\n",
    "print('stat=%.3f, p=%.3f' % (stat, p))\n",
    "if p > 0.05:\n",
    "\tprint('Probably Gaussian')\n",
    "else:\n",
    "\tprint('Probably not Gaussian')"
   ]
  },
  {
   "cell_type": "markdown",
   "id": "7b5c1a85",
   "metadata": {},
   "source": [
    "## Anderson-Darling Test\n",
    "Tests whether a data sample has a Gaussian distribution.\n",
    "\n",
    "**Assumptions:**\n",
    "Observations in each sample are independent and identically distributed (iid).\n",
    "\n",
    "**Interpretation:**\n",
    "- H0: the sample has a Gaussian distribution.\n",
    "- H1: the sample does not have a Gaussian distribution.\n"
   ]
  },
  {
   "cell_type": "code",
   "execution_count": 16,
   "id": "27a6b47d",
   "metadata": {},
   "outputs": [
    {
     "name": "stdout",
     "output_type": "stream",
     "text": [
      "Statistic: 4.800\n",
      "15.000: 0.570, data does not look normal (reject H0)\n",
      "10.000: 0.650, data does not look normal (reject H0)\n",
      "5.000: 0.779, data does not look normal (reject H0)\n",
      "2.500: 0.909, data does not look normal (reject H0)\n",
      "1.000: 1.081, data does not look normal (reject H0)\n"
     ]
    }
   ],
   "source": [
    "# Anderson-Darling Test\n",
    "from numpy.random import seed\n",
    "from numpy.random import randn\n",
    "from scipy.stats import anderson\n",
    "# seed the random number generator\n",
    "seed(1)\n",
    "# generate univariate observations\n",
    "data = Logistic_model\n",
    "# normality test\n",
    "result = anderson(data)\n",
    "print('Statistic: %.3f' % result.statistic)\n",
    "p = 0\n",
    "for i in range(len(result.critical_values)):\n",
    "\tsl, cv = result.significance_level[i], result.critical_values[i]\n",
    "\tif result.statistic < result.critical_values[i]:\n",
    "\t\tprint('%.3f: %.3f, data looks normal (fail to reject H0)' % (sl, cv))\n",
    "\telse:\n",
    "\t\tprint('%.3f: %.3f, data does not look normal (reject H0)' % (sl, cv))"
   ]
  },
  {
   "cell_type": "code",
   "execution_count": 17,
   "id": "52a0934b",
   "metadata": {},
   "outputs": [
    {
     "name": "stdout",
     "output_type": "stream",
     "text": [
      "Statistic: 8.365\n",
      "15.000: 0.570, data does not look normal (reject H0)\n",
      "10.000: 0.650, data does not look normal (reject H0)\n",
      "5.000: 0.779, data does not look normal (reject H0)\n",
      "2.500: 0.909, data does not look normal (reject H0)\n",
      "1.000: 1.081, data does not look normal (reject H0)\n"
     ]
    }
   ],
   "source": [
    "# Anderson-Darling Test\n",
    "from numpy.random import seed\n",
    "from numpy.random import randn\n",
    "from scipy.stats import anderson\n",
    "# seed the random number generator\n",
    "seed(1)\n",
    "# generate univariate observations\n",
    "data = SVM_model\n",
    "# normality test\n",
    "result = anderson(data)\n",
    "print('Statistic: %.3f' % result.statistic)\n",
    "p = 0\n",
    "for i in range(len(result.critical_values)):\n",
    "\tsl, cv = result.significance_level[i], result.critical_values[i]\n",
    "\tif result.statistic < result.critical_values[i]:\n",
    "\t\tprint('%.3f: %.3f, data looks normal (fail to reject H0)' % (sl, cv))\n",
    "\telse:\n",
    "\t\tprint('%.3f: %.3f, data does not look normal (reject H0)' % (sl, cv))"
   ]
  },
  {
   "cell_type": "markdown",
   "id": "209117ef",
   "metadata": {},
   "source": [
    "## Sample size determination - Cochranes formula:\n",
    "\n",
    "### z-score:\n",
    "assumes normal distribution of data\n",
    "\n",
    "| Confidence level | z-score | \n",
    "| --- | --- |\n",
    "| 80% | 1.282 |\n",
    "| 90% | 1.645 |\n",
    "| 95% | 1.960 |\n",
    "| 98% | 2.326 |\n",
    "| 99% | 2.576 |\n"
   ]
  },
  {
   "cell_type": "code",
   "execution_count": 18,
   "id": "8093a631",
   "metadata": {},
   "outputs": [
    {
     "name": "stdout",
     "output_type": "stream",
     "text": [
      "number of samples when we do not have any knowledge: 384.1599999999999\n"
     ]
    }
   ],
   "source": [
    "z_score = {80:1.282, 90:1.645, 95:1.960, 98:2.326, 99:2.576}\n",
    "\n",
    "confidence_level = 95\n",
    "\n",
    "z = z_score[confidence_level]  # z-score\n",
    "p = 0.5 # maximum variability\n",
    "q = 1-p\n",
    "e = (100-confidence_level)/100\n",
    "\n",
    "n0 = (z**2 * p * q)/e**2\n",
    "print(f\"number of samples when we do not have any knowledge: {n0}\")\n"
   ]
  },
  {
   "cell_type": "code",
   "execution_count": 19,
   "id": "d18bfb4c",
   "metadata": {},
   "outputs": [
    {
     "name": "stdout",
     "output_type": "stream",
     "text": [
      "number of samples when the std deviation is 0.8608400632840962: 184.08094169512938\n"
     ]
    }
   ],
   "source": [
    "# when the standard deviation is known\n",
    "sigma = df_SVM_model.std()\n",
    "\n",
    "n0 = z**2 * sigma * (1-sigma) /  e**2\n",
    "print(f\"number of samples when the std deviation is {sigma}: {n0}\")"
   ]
  },
  {
   "cell_type": "code",
   "execution_count": 20,
   "id": "e302c2f0",
   "metadata": {},
   "outputs": [
    {
     "name": "stdout",
     "output_type": "stream",
     "text": [
      "number of samples when the std deviation is 0.06446271963305021: 92.6705747601644\n"
     ]
    }
   ],
   "source": [
    "# when the standard deviation is known\n",
    "sigma = df_Logistic_model.std()\n",
    "\n",
    "n0 = z**2 * sigma * (1-sigma) /  e**2\n",
    "print(f\"number of samples when the std deviation is {sigma}: {n0}\")"
   ]
  },
  {
   "cell_type": "markdown",
   "id": "b37afbdd",
   "metadata": {},
   "source": [
    "## Lavene's test\n",
    "https://pyshark.com/levenes-test-for-equality-of-variances-explained-with-python-examples/\n",
    "\n",
    "Tests whether the observations in each sample have the same variance.\n",
    "\n",
    "**Interpretation**\n",
    "- H0: The null hypothesis of Levene’s test is that all groups have equal variances.\n",
    "- H1: The alternative hypothesis of Levene’s test is that at least one pair of groups has unequal variances.\n"
   ]
  },
  {
   "cell_type": "code",
   "execution_count": 21,
   "id": "71ccb4dd",
   "metadata": {},
   "outputs": [
    {
     "name": "stdout",
     "output_type": "stream",
     "text": [
      "Lavene's test statistic: 571.7113095915888\n",
      "P-value: 1.0566720545044334e-95\n",
      "Reject the null hypothesis: at least one pair of groups has unequal variances\n"
     ]
    }
   ],
   "source": [
    "from scipy.stats import levene\n",
    "stat, p_value = levene(SVM_model, Logistic_model)\n",
    "\n",
    "print(f\"Lavene's test statistic: {stat}\")\n",
    "print(f\"P-value: {p_value}\")\n",
    "\n",
    "if  p_value > 0.05:\n",
    "\tprint('Cannot reject the null hypothesis: all groups probably have equal variances')\n",
    "else:\n",
    "\tprint('Reject the null hypothesis: at least one pair of groups has unequal variances')\n"
   ]
  },
  {
   "cell_type": "markdown",
   "id": "d6db4ea5",
   "metadata": {},
   "source": [
    "# Analysis of Variance Test (ANOVA)\n",
    "Tests whether the means of two or more independent samples are significantly different.\n",
    "\n",
    "**Assumptions:**\n",
    "- Observations in each sample are independent and identically distributed (iid).\n",
    "- Observations in each sample are normally distributed.\n",
    "- Observations in each sample have the same variance.\n",
    "\n",
    "**Interpretation**\n",
    "- H0: the means of the samples are equal.\n",
    "- H1: one or more of the means of the samples are unequal."
   ]
  },
  {
   "cell_type": "code",
   "execution_count": 22,
   "id": "41f11854",
   "metadata": {},
   "outputs": [
    {
     "name": "stdout",
     "output_type": "stream",
     "text": [
      "stat=6615095.135, p=0.000\n",
      "Probably different distributions\n"
     ]
    }
   ],
   "source": [
    "# Example of the Analysis of Variance Test\n",
    "from scipy.stats import f_oneway\n",
    "data1 = SVM_model\n",
    "data2 = Logistic_model\n",
    "stat, p = f_oneway(data1, data2)\n",
    "print('stat=%.3f, p=%.3f' % (stat, p))\n",
    "if p > 0.05:\n",
    "\tprint('Probably the same distribution')\n",
    "else:\n",
    "\tprint('Probably different distributions')"
   ]
  }
 ],
 "metadata": {
  "kernelspec": {
   "display_name": "Python 3 (ipykernel)",
   "language": "python",
   "name": "python3"
  },
  "language_info": {
   "codemirror_mode": {
    "name": "ipython",
    "version": 3
   },
   "file_extension": ".py",
   "mimetype": "text/x-python",
   "name": "python",
   "nbconvert_exporter": "python",
   "pygments_lexer": "ipython3",
   "version": "3.11.4"
  }
 },
 "nbformat": 4,
 "nbformat_minor": 5
}
